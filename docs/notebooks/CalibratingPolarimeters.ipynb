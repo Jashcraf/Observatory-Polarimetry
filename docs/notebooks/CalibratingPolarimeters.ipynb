{
 "cells": [
  {
   "cell_type": "code",
   "execution_count": 2,
   "metadata": {},
   "outputs": [],
   "source": [
    "import numpy as np\n",
    "\n",
    "from katsu.mueller import (\n",
    "    linear_polarizer,\n",
    "    linear_retarder,\n",
    "    linear_diattenuator\n",
    ")"
   ]
  },
  {
   "cell_type": "code",
   "execution_count": 3,
   "metadata": {},
   "outputs": [],
   "source": [
    "polarizer_angle_1 = np.random.random()\n",
    "polarizer_angle_2 = np.random.random()\n",
    "\n",
    "retarder_angle_1 = np.random.random()\n",
    "retarder_angle_2 = np.random.random()"
   ]
  },
  {
   "cell_type": "code",
   "execution_count": 16,
   "metadata": {},
   "outputs": [],
   "source": [
    "def m_fwd(a):\n",
    "\n",
    "    polang1, polang2, retang1, retang2 = a[0], a[1], a[2], a[3]\n",
    "\n",
    "    ## Build the forward model\n",
    "    # build PSG\n",
    "    psg = linear_retarder(retang1, np.pi/2) @ linear_polarizer(polang1)\n",
    "\n",
    "    # build PSA\n",
    "    psa = linear_polarizer(polang2) @ linear_retarder(retang2, np.pi/2)\n",
    "\n",
    "    # system\n",
    "    total = psa @ psg\n",
    "\n",
    "    # modeled irradiance\n",
    "    I = total[..., 0, 0]\n",
    "\n",
    "    # Now the truth\n",
    "    true_M =  linear_polarizer(np.pi/2) @ linear_retarder(np.pi/4, np.pi/2) @ linear_retarder(np.pi/10, np.pi/2) @ linear_polarizer(0)\n",
    "    true_I = true_M[..., 0, 0]\n",
    "\n",
    "    return (I - true_I)**2"
   ]
  },
  {
   "cell_type": "code",
   "execution_count": 20,
   "metadata": {},
   "outputs": [
    {
     "name": "stdout",
     "output_type": "stream",
     "text": [
      "      fun: 3.3420258623272954e-15\n",
      " hess_inv: <4x4 LbfgsInvHessProduct with dtype=float64>\n",
      "      jac: array([-4.29546817e-08,  4.24794664e-08,  6.16342601e-08, -5.34759102e-08])\n",
      "  message: 'CONVERGENCE: NORM_OF_PROJECTED_GRADIENT_<=_PGTOL'\n",
      "     nfev: 40\n",
      "      nit: 6\n",
      "     njev: 8\n",
      "   status: 0\n",
      "  success: True\n",
      "        x: array([-0.1455775 ,  0.09747455, -0.13116726,  1.2432434 ])\n"
     ]
    }
   ],
   "source": [
    "from scipy.optimize import minimize\n",
    "results = minimize(m_fwd,x0=(polarizer_angle_1,polarizer_angle_2,retarder_angle_1,retarder_angle_2),method='L-BFGS-B')\n",
    "print(results)"
   ]
  },
  {
   "cell_type": "code",
   "execution_count": 22,
   "metadata": {},
   "outputs": [
    {
     "name": "stdout",
     "output_type": "stream",
     "text": [
      "[0, 0.3141592653589793, 0.7853981633974483, 1.5707963267948966]\n"
     ]
    },
    {
     "data": {
      "text/plain": [
       "array([-0.1455775 ,  0.09747455, -0.13116726,  1.2432434 ])"
      ]
     },
     "execution_count": 22,
     "metadata": {},
     "output_type": "execute_result"
    }
   ],
   "source": [
    "print([0, np.pi/10, np.pi/4, np.pi/2])\n",
    "results.x"
   ]
  },
  {
   "cell_type": "code",
   "execution_count": 15,
   "metadata": {},
   "outputs": [
    {
     "data": {
      "text/plain": [
       "0.15707963267948966"
      ]
     },
     "execution_count": 15,
     "metadata": {},
     "output_type": "execute_result"
    }
   ],
   "source": []
  },
  {
   "cell_type": "code",
   "execution_count": null,
   "metadata": {},
   "outputs": [],
   "source": []
  }
 ],
 "metadata": {
  "kernelspec": {
   "display_name": "Python 3",
   "language": "python",
   "name": "python3"
  },
  "language_info": {
   "codemirror_mode": {
    "name": "ipython",
    "version": 3
   },
   "file_extension": ".py",
   "mimetype": "text/x-python",
   "name": "python",
   "nbconvert_exporter": "python",
   "pygments_lexer": "ipython3",
   "version": "3.8.8"
  }
 },
 "nbformat": 4,
 "nbformat_minor": 2
}
