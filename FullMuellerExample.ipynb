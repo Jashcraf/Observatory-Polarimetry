{
 "cells": [
  {
   "cell_type": "code",
   "execution_count": 1,
   "metadata": {},
   "outputs": [],
   "source": [
    "from katsu.polarimetry import full_mueller_polarimetry\n",
    "from katsu.mueller import linear_polarizer,linear_retarder\n",
    "import numpy as np"
   ]
  },
  {
   "attachments": {},
   "cell_type": "markdown",
   "metadata": {},
   "source": [
    "# Dual Rotating Retarder Polarimetry\n",
    "So you want to measure a Mueller matrix, that's neat. To do so we use the Dual Rotating Retarder Polarimeter (DRRP). This consists of:\n",
    "- a source\n",
    "- a linear polarizer at a fixed angle\n",
    "- a quarter-wave plate that can rotate\n",
    "- the system you are trying to measure the mueller matrix of\n",
    "- a quarter-wave plate that can rotate\n",
    "- a linear polarizer at a fixed angle\n",
    "- a detector to measure power\n",
    "\n",
    "The theory of this polarimeter is covered in Chipman, and also Azzam, but is reproduced in brief here. Our first polarizer/waveplate pair forms our *polarization state generator* (PSG). The latter pair forms our *polarization state analyzer* (PSA). The first waveplate must rotate $N_{meas} > 16$ times at some angular step size $\\delta\\theta$. The second waveplate must also rotate $N_{meas}$ times, but at five times the step size $5\\delta\\theta$.\n",
    "\n",
    "For each $\\delta\\theta$ we record the power on the detector. We next must understand that detectors can only measure power! This means, that it effectively measures the first row of the PSA matrix and the first column of the PSG matrix. The reason for that is revealed in the mueller calculus, which I've left as an exercise to the reader below*\n",
    "\n",
    "$$\\mathbf{S}_{out} = [\\mathbf{PSA}] \\mathbf{M}_{system} [\\mathbf{PSG}] \\mathbf{S_{0}}$$\n",
    "\n",
    "For each measurement iteration we compute our PSA and PSG, and then store those results in our polarimetric data reduction matrix $\\mathbf{W}$. This is an $N_{meas} \\times 16$ matrix that contains what our PSA and PSG are doing. $\\mathbf{W}$ is given by:\n",
    "\n",
    "$$\\mathbf{W} = [\\mathbf{PSA}_{0,j}] \\otimes [\\mathbf{PSG}_{i,0}]$$\n",
    "\n",
    "Where $i,j$ are the row and column indices, respectively, and $\\otimes$ is the Kronecker product. For each measurement, we record the power on the detector and store it in a vector that is $N_{meas}$ long, called $\\mathbf{P}$, and we computpe the unraveled mueller matrix using the following relation:\n",
    "\n",
    "$$\\mathbf{M}_{meas} = \\mathbf{W}^{-1}\\mathbf{P}$$\n",
    "\n",
    "For the case where $N_{meas} > 16$, you must use the moore-penrose pseudo inverse to invert $\\mathbf{W}$. Now that the theory is out of the way, let's test it out!\n",
    "\n",
    "*aren't I the worst?"
   ]
  },
  {
   "cell_type": "code",
   "execution_count": 2,
   "metadata": {},
   "outputs": [
    {
     "data": {
      "text/plain": [
       "array([[0.5       , 0.49632643, 0.06049853, 0.        ],\n",
       "       [0.45971012, 0.45633257, 0.05562358, 0.        ],\n",
       "       [0.11982325, 0.11894289, 0.01449826, 0.        ],\n",
       "       [0.15591342, 0.15476791, 0.01886507, 0.        ]])"
      ]
     },
     "metadata": {},
     "output_type": "display_data"
    }
   ],
   "source": [
    "# Start by generating a random mueller matrix composed of a polarizer and retarder\n",
    "M_to_measure = linear_retarder(np.random.random(),np.random.random()) @ linear_polarizer(np.random.random())\n",
    "display(M_to_measure)"
   ]
  },
  {
   "attachments": {},
   "cell_type": "markdown",
   "metadata": {},
   "source": [
    "## Performing a simulated measurement\n",
    "This mode of `full_mueller_polarimetry` uses an internal simulator where the Mueller matrix is known, and is largely useful for 1) making sure the algorithm works and 2) testing the theoretical limits of the technique. We can provide it with the matrix above and it carries out the method described earlier. Let's see how it does! We begin with the minimum number of measurements, 16."
   ]
  },
  {
   "cell_type": "code",
   "execution_count": 3,
   "metadata": {},
   "outputs": [],
   "source": [
    "# katsu has a simulator built-in, so let's try use that\n",
    "thetas = np.linspace(0,np.pi,16) # 16 measurements between 0 and pi\n",
    "M_out = full_mueller_polarimetry(thetas,Min=M_to_measure)"
   ]
  },
  {
   "cell_type": "code",
   "execution_count": 4,
   "metadata": {},
   "outputs": [
    {
     "name": "stdout",
     "output_type": "stream",
     "text": [
      "Mueller Matrix Measured\n",
      "[[ 5.00000000e-01  4.96326432e-01  6.04985339e-02 -1.76941795e-16]\n",
      " [ 4.59710119e-01  4.56332566e-01  5.56235764e-02  5.23886490e-16]\n",
      " [ 8.63300195e-02  8.56957412e-02  1.04456792e-02  7.97972799e-17]\n",
      " [ 1.72660039e-01  1.71391482e-01  2.08913585e-02  4.51028104e-17]]\n",
      "Percent Difference\n",
      "[[-8.88178420e-14 -1.34212843e-13 -1.37634289e-13             inf]\n",
      " [-1.56978265e-13 -3.16280283e-13  1.92110923e-12            -inf]\n",
      " [ 2.79521965e+01  2.79521965e+01  2.79521965e+01            -inf]\n",
      " [-1.07409707e+01 -1.07409707e+01 -1.07409707e+01            -inf]]\n"
     ]
    },
    {
     "name": "stderr",
     "output_type": "stream",
     "text": [
      "<ipython-input-4-f26d43f49149>:4: RuntimeWarning: divide by zero encountered in divide\n",
      "  print(100*(M_to_measure-M_out)/M_to_measure)\n"
     ]
    }
   ],
   "source": [
    "print('Mueller Matrix Measured')\n",
    "print(M_out)\n",
    "print('Percent Difference')\n",
    "print(100*(M_to_measure-M_out)/M_to_measure)"
   ]
  },
  {
   "attachments": {},
   "cell_type": "markdown",
   "metadata": {},
   "source": [
    "Pardon the rightmost column blowing up, but those were all zeros anyway. We successfully recover some of the information for the top two rows but not the bottom, can this be fixed with more measurements?"
   ]
  },
  {
   "cell_type": "code",
   "execution_count": 5,
   "metadata": {},
   "outputs": [
    {
     "name": "stdout",
     "output_type": "stream",
     "text": [
      "Mueller Matrix Measured\n",
      "[[ 5.00000000e-01  4.96326432e-01  6.04985339e-02 -1.11022302e-16]\n",
      " [ 4.59710119e-01  4.56332566e-01  5.56235764e-02  0.00000000e+00]\n",
      " [ 1.19823250e-01  1.18942892e-01  1.44982619e-02 -5.55111512e-17]\n",
      " [ 1.55913424e-01  1.54767907e-01  1.88650671e-02  2.08166817e-17]]\n",
      "Percent Difference\n",
      "[[ 6.66133815e-14 -8.94752286e-14  1.33046479e-12             inf]\n",
      " [-2.05279269e-13  1.45975515e-13 -3.66757217e-12             nan]\n",
      " [-4.16947764e-13 -5.83380291e-14 -1.28025975e-12             inf]\n",
      " [ 1.24613407e-13  0.00000000e+00  1.37931405e-12            -inf]]\n"
     ]
    },
    {
     "name": "stderr",
     "output_type": "stream",
     "text": [
      "<ipython-input-5-0dd24482ebfc>:7: RuntimeWarning: divide by zero encountered in divide\n",
      "  print(100*(M_to_measure-M_out)/M_to_measure)\n",
      "<ipython-input-5-0dd24482ebfc>:7: RuntimeWarning: invalid value encountered in divide\n",
      "  print(100*(M_to_measure-M_out)/M_to_measure)\n"
     ]
    }
   ],
   "source": [
    "# katsu has a simulator built-in, so let's try use that\n",
    "thetas = np.linspace(0,np.pi,24) # 24 measurements between 0 and pi\n",
    "M_out = full_mueller_polarimetry(thetas,Min=M_to_measure)\n",
    "print('Mueller Matrix Measured')\n",
    "print(M_out)\n",
    "print('Percent Difference')\n",
    "print(100*(M_to_measure-M_out)/M_to_measure)"
   ]
  },
  {
   "attachments": {},
   "cell_type": "markdown",
   "metadata": {},
   "source": [
    "Indeed it can! Experimentally I've found that 24 is a good minimum number of measurements to get accurate measurements of the mueller matrix. But you shouldn't trust me yet. Let's start by actually generating a fake dataset."
   ]
  },
  {
   "cell_type": "code",
   "execution_count": 6,
   "metadata": {},
   "outputs": [
    {
     "data": {
      "image/png": "[encoded data removed]",
      "text/plain": [
       "<Figure size 432x288 with 1 Axes>"
      ]
     },
     "metadata": {
      "needs_background": "light"
     },
     "output_type": "display_data"
    }
   ],
   "source": [
    "power_matrix = np.zeros_like(thetas)\n",
    "\n",
    "# this is like building the W matrix\n",
    "for i,angle in enumerate(thetas):\n",
    "    PSG = linear_retarder(angle,np.pi/2) @ linear_polarizer(0)\n",
    "    PSA = linear_polarizer(0) @ linear_retarder(angle*5,np.pi/2)\n",
    "    power_matrix[i] = (PSA[0,:] @ M_to_measure @ PSG[:,0])\n",
    "\n",
    "import matplotlib.pyplot as plt\n",
    "plt.style.use('bmh')\n",
    "plt.figure()\n",
    "plt.title('Power observed')\n",
    "plt.plot(thetas,power_matrix)\n",
    "plt.xlabel('waveplate angle [rad]')\n",
    "plt.ylabel('Power [A.U.]')\n",
    "plt.show()"
   ]
  },
  {
   "attachments": {},
   "cell_type": "markdown",
   "metadata": {},
   "source": [
    "Here we can see the observed power as we sweep through the retarder rotation. Instead of providing `full_mueller_polarimetry` with a known mueller matrix, we can just pass it the data that contains the power recorded and let the algorithm figure it out! The result is shown below."
   ]
  },
  {
   "cell_type": "code",
   "execution_count": 10,
   "metadata": {},
   "outputs": [
    {
     "name": "stdout",
     "output_type": "stream",
     "text": [
      "Mueller Matrix Measured\n",
      "[[ 5.00000000e-01  4.96326432e-01  6.04985339e-02 -1.11022302e-16]\n",
      " [ 4.59710119e-01  4.56332566e-01  5.56235764e-02  0.00000000e+00]\n",
      " [ 1.19823250e-01  1.18942892e-01  1.44982619e-02 -5.55111512e-17]\n",
      " [ 1.55913424e-01  1.54767907e-01  1.88650671e-02  2.08166817e-17]]\n",
      "Percent Difference\n",
      "[[ 6.66133815e-14 -8.94752286e-14  1.33046479e-12             inf]\n",
      " [-2.05279269e-13  1.45975515e-13 -3.66757217e-12             nan]\n",
      " [-4.16947764e-13 -5.83380291e-14 -1.28025975e-12             inf]\n",
      " [ 1.24613407e-13  0.00000000e+00  1.37931405e-12            -inf]]\n"
     ]
    },
    {
     "name": "stderr",
     "output_type": "stream",
     "text": [
      "<ipython-input-10-813888664ba5>:5: RuntimeWarning: divide by zero encountered in divide\n",
      "  print(100*(M_to_measure-M_out)/M_to_measure)\n",
      "<ipython-input-10-813888664ba5>:5: RuntimeWarning: invalid value encountered in divide\n",
      "  print(100*(M_to_measure-M_out)/M_to_measure)\n"
     ]
    }
   ],
   "source": [
    "M_out = full_mueller_polarimetry(thetas,power=power_matrix)\n",
    "print('Mueller Matrix Measured')\n",
    "print(M_out)\n",
    "print('Percent Difference')\n",
    "print(100*(M_to_measure-M_out)/M_to_measure)"
   ]
  },
  {
   "attachments": {},
   "cell_type": "markdown",
   "metadata": {},
   "source": [
    "Success! We can use this algorithm to measure the Mueller matrix of a given detector. At the moment this is a per-pixel calculation, but this can be generalized to N pixels by looping over the pixel index. Broadcasting the calculation is trivial, I just haven't implemented it yet."
   ]
  },
  {
   "attachments": {},
   "cell_type": "markdown",
   "metadata": {},
   "source": [
    "## Discussion\n",
    "We've illustrated the basics of DRRP's and how we can use katsu** to process the data to get a mueller matrix out. There are some limits to what we can do with the existing codebase however, because it is not written for the most general case. A list of assumptions are included below:\n",
    "- 1) Katsu assumes that the mueller matrix is measured w.r.t. the axis of the linear polarizers as horizontal\n",
    "- 2) Katsu assumes that the linear polarizers are parallel\n",
    "- 3) Katsu assumes that the fast-axis of the quarter-wave plates begin parallel to the polarizers\n",
    "- 4) Katsu operates on scalar powers, meaning that it can only presently process one pixel at a time\n",
    "\n",
    "These changes are easy to implement, it's just worth noting that they are not present in the codebase yet!\n",
    "\n",
    "**name preliminary, still thinking of a better one"
   ]
  },
  {
   "attachments": {},
   "cell_type": "markdown",
   "metadata": {},
   "source": []
  }
 ],
 "metadata": {
  "kernelspec": {
   "display_name": "Python 3",
   "language": "python",
   "name": "python3"
  },
  "language_info": {
   "codemirror_mode": {
    "name": "ipython",
    "version": 3
   },
   "file_extension": ".py",
   "mimetype": "text/x-python",
   "name": "python",
   "nbconvert_exporter": "python",
   "pygments_lexer": "ipython3",
   "version": "3.8.8"
  },
  "orig_nbformat": 4
 },
 "nbformat": 4,
 "nbformat_minor": 2
}
