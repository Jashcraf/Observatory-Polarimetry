{
 "cells": [
  {
   "cell_type": "code",
   "execution_count": 1,
   "metadata": {},
   "outputs": [],
   "source": [
    "from katsu.polarimetry import full_mueller_polarimetry,broadcasted_full_mueller_polarimetry,broadcast_kron,broadcast_outer\n",
    "from katsu.mueller import linear_polarizer,linear_retarder\n",
    "import numpy as np"
   ]
  },
  {
   "cell_type": "code",
   "execution_count": 3,
   "metadata": {},
   "outputs": [],
   "source": [
    "\n",
    "# Mout = broadcasted_full_mueller_polarimetry(thetas,Min=Min)"
   ]
  },
  {
   "cell_type": "code",
   "execution_count": 54,
   "metadata": {},
   "outputs": [],
   "source": [
    "starting_angles={'psg_polarizer':0,\n",
    "                'psg_qwp':0,\n",
    "                'psa_qwp':0,\n",
    "                'psa_polarizer':0}\n",
    "nmeas = 26\n",
    "thetas = np.linspace(0,2*np.pi,nmeas)\n",
    "\n",
    "Min = linear_polarizer(np.random.random()) @ linear_retarder(np.random.random(),np.random.random())\n",
    "\n",
    "Mg = linear_retarder(starting_angles['psg_qwp']+thetas,np.pi/2) @ linear_polarizer(starting_angles['psg_polarizer'])\n",
    "Ma = linear_polarizer(starting_angles['psa_polarizer']) @ linear_retarder(starting_angles['psa_qwp']+thetas*5,np.pi/2)\n",
    "PSA = Ma[...,0,:]\n",
    "# PSA = PSA[...,np.newaxis]\n",
    "\n",
    "PSG = Mg[...,:,0]\n",
    "power = 1\n",
    "# PSG = PSG[...,np.newaxis]\n",
    "Wmat = broadcast_outer(PSA,PSG).reshape([nmeas,16])\n",
    "PSG = PSG[...,np.newaxis]\n",
    "PSA = PSA[...,np.newaxis]\n",
    "Min = np.broadcast_to(Min,[*PSA.shape[:-2],4,4])\n",
    "\n",
    "Pmat = (np.swapaxes(PSA,-1,-2) @ Min @ PSG) * power\n",
    "M_meas = np.linalg.pinv(Wmat) @ Pmat[...,0,0]"
   ]
  },
  {
   "cell_type": "code",
   "execution_count": 55,
   "metadata": {},
   "outputs": [
    {
     "name": "stdout",
     "output_type": "stream",
     "text": [
      "[[ 0.5         0.40017042  0.27793622 -0.11231694]\n",
      " [ 0.42169297  0.33749811  0.2344075  -0.09472653]\n",
      " [ 0.26865412  0.21501486  0.14933742 -0.06034882]\n",
      " [ 0.          0.          0.          0.        ]]\n",
      "[[ 5.00000000e-01  4.00170416e-01  2.77936220e-01 -1.12316944e-01]\n",
      " [ 4.21692973e-01  3.37498105e-01  2.34407502e-01 -9.47265317e-02]\n",
      " [ 2.68654120e-01  2.15014862e-01  1.49337421e-01 -6.03488193e-02]\n",
      " [ 1.66533454e-16 -2.49800181e-16 -2.35922393e-16  1.38777878e-17]]\n"
     ]
    }
   ],
   "source": [
    "print(Min[0])\n",
    "print(M_meas.reshape([4,4]))"
   ]
  },
  {
   "cell_type": "code",
   "execution_count": null,
   "metadata": {},
   "outputs": [
    {
     "data": {
      "text/plain": [
       "(16, 4, 4)"
      ]
     },
     "execution_count": 11,
     "metadata": {},
     "output_type": "execute_result"
    }
   ],
   "source": [
    "Wmat.shape"
   ]
  },
  {
   "cell_type": "code",
   "execution_count": null,
   "metadata": {},
   "outputs": [],
   "source": []
  }
 ],
 "metadata": {
  "kernelspec": {
   "display_name": "base",
   "language": "python",
   "name": "python3"
  },
  "language_info": {
   "codemirror_mode": {
    "name": "ipython",
    "version": 3
   },
   "file_extension": ".py",
   "mimetype": "text/x-python",
   "name": "python",
   "nbconvert_exporter": "python",
   "pygments_lexer": "ipython3",
   "version": "3.8.8"
  },
  "orig_nbformat": 4
 },
 "nbformat": 4,
 "nbformat_minor": 2
}
